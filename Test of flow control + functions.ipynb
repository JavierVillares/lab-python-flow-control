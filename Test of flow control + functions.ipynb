{
 "cells": [
  {
   "cell_type": "code",
   "execution_count": 1,
   "id": "d41071a2",
   "metadata": {},
   "outputs": [],
   "source": [
    "def initialize_inventory(products): #this is to define what happens when we pull up the inventory from python in this case it´s going to be able to add new items to the existing products and the quantity of all products\n",
    "    inventory = {} #we need an empty inventory dictionary \n",
    "    more_products = \"yes\" #conditio of the input \n",
    "    while more_products == \"yes\":\n",
    "        products_orders = input(\"What product do you want to add to the list:\"  )\n",
    "        more_products = input(\"Do you want to add more products to the list? yes/no \")\n",
    "        products.append(products_orders)\n",
    "    else: inventory = {}\n",
    "    \n",
    "    for x in products:\n",
    "        inventory[x] = int(input(\"How many \" + x + \" are there: \" ))\n",
    "    print(products)\n",
    "    return inventory"
   ]
  },
  {
   "cell_type": "code",
   "execution_count": 2,
   "id": "c86b0ff9",
   "metadata": {},
   "outputs": [],
   "source": [
    "def get_customer_orders():\n",
    "    customer_orders = set()\n",
    "    #here we are creating a loop so the customer can choose several products but we can´t choose multiple products since the customer_orders list is a set so for now we just create a simple loop and we update the list of the set\n",
    "    seguir = \"y\" #start of loop \"condition first\"\n",
    "    while seguir == \"y\": #checking what the condition of the loop is\n",
    "        print(products) #we need the list of the available products from which the customer can choose from\n",
    "        order = input(\"Choose one of these following items: \") #we ask the customer to choose one of the items \n",
    "        print(\"You choose:\", order) #we confirm what he chose\n",
    "        customer_orders.add(order) #we add said order to the customer_orders set\n",
    "        seguir = input(\"Do you want to keep on buying?  y/n \", ) #we ask the customer if he wants to continue choosing y = loop starts again n = we continue with the next line of code\n",
    "    else: \n",
    "        print(\"Thank you for purchasing:\", customer_orders) #we display the customer_orders list with a thank you message\n",
    "    return customer_orders"
   ]
  },
  {
   "cell_type": "code",
   "execution_count": 3,
   "id": "c9d03b38",
   "metadata": {},
   "outputs": [],
   "source": [
    "def update_inventory(customer_orders, products):\n",
    "    for x in customer_orders:\n",
    "        inventory[x] -= 1\n",
    "    return inventory"
   ]
  },
  {
   "cell_type": "code",
   "execution_count": 4,
   "id": "0247cc8e",
   "metadata": {},
   "outputs": [],
   "source": [
    "def calculate_order_statistics(customer_orders, products):\n",
    "    order_statistics = len(customer_orders)/len(products)*100\n",
    "    print(\"Percentage of customer order\", order_statistics,\"%\")\n",
    "    return order_statistics"
   ]
  },
  {
   "cell_type": "code",
   "execution_count": 5,
   "id": "bc5a957d",
   "metadata": {},
   "outputs": [],
   "source": [
    "def print_order_statistics(order_statistics):\n",
    "    print(customer_orders)\n",
    "    print(order_statistics)"
   ]
  },
  {
   "cell_type": "code",
   "execution_count": 6,
   "id": "1c76e95e",
   "metadata": {},
   "outputs": [],
   "source": [
    "def print_updated_inventory(inventory):\n",
    "    for x,y in inventory.items(): #basic nice display of the total left inventory\n",
    "        print(\"Inventory of\", x , \"is: \", y )\n",
    "    return x and y"
   ]
  },
  {
   "cell_type": "code",
   "execution_count": 7,
   "id": "3384d1b4",
   "metadata": {},
   "outputs": [
    {
     "name": "stdout",
     "output_type": "stream",
     "text": [
      "What product do you want to add to the list:tank\n",
      "Do you want to add more products to the list? yes/no yes\n",
      "What product do you want to add to the list:car\n",
      "Do you want to add more products to the list? yes/no yes\n",
      "What product do you want to add to the list:dog\n",
      "Do you want to add more products to the list? yes/no no\n",
      "How many t-shirt are there: 12\n",
      "How many mug are there: 12\n",
      "How many hat are there: 12\n",
      "How many book are there: 12\n",
      "How many keychain are there: 12\n",
      "How many tank are there: 12\n",
      "How many car are there: 12\n",
      "How many dog are there: 12\n",
      "['t-shirt', 'mug', 'hat', 'book', 'keychain', 'tank', 'car', 'dog']\n",
      "['t-shirt', 'mug', 'hat', 'book', 'keychain', 'tank', 'car', 'dog']\n",
      "Choose one of these following items: dog\n",
      "You choose: dog\n",
      "Do you want to keep on buying?  y/n y\n",
      "['t-shirt', 'mug', 'hat', 'book', 'keychain', 'tank', 'car', 'dog']\n",
      "Choose one of these following items: car\n",
      "You choose: car\n",
      "Do you want to keep on buying?  y/n y\n",
      "['t-shirt', 'mug', 'hat', 'book', 'keychain', 'tank', 'car', 'dog']\n",
      "Choose one of these following items: hat\n",
      "You choose: hat\n",
      "Do you want to keep on buying?  y/n n\n",
      "Thank you for purchasing: {'car', 'hat', 'dog'}\n",
      "Percentage of customer order 37.5 %\n",
      "{'car', 'hat', 'dog'}\n",
      "37.5\n",
      "Inventory of t-shirt is:  12\n",
      "Inventory of mug is:  12\n",
      "Inventory of hat is:  11\n",
      "Inventory of book is:  12\n",
      "Inventory of keychain is:  12\n",
      "Inventory of tank is:  12\n",
      "Inventory of car is:  11\n",
      "Inventory of dog is:  11\n"
     ]
    },
    {
     "data": {
      "text/plain": [
       "11"
      ]
     },
     "execution_count": 7,
     "metadata": {},
     "output_type": "execute_result"
    }
   ],
   "source": [
    "products = [\"t-shirt\", \"mug\", \"hat\", \"book\", \"keychain\"]\n",
    "inventory = initialize_inventory(products)\n",
    "customer_orders = get_customer_orders()\n",
    "update_inventory(customer_orders, inventory)\n",
    "order_statistics = calculate_order_statistics(customer_orders, products)\n",
    "print_order_statistics(order_statistics)\n",
    "print_updated_inventory(inventory)"
   ]
  },
  {
   "cell_type": "markdown",
   "id": "26625006",
   "metadata": {},
   "source": []
  },
  {
   "cell_type": "code",
   "execution_count": null,
   "id": "c1468823",
   "metadata": {},
   "outputs": [],
   "source": []
  },
  {
   "cell_type": "code",
   "execution_count": null,
   "id": "ba6dde8b",
   "metadata": {},
   "outputs": [],
   "source": []
  },
  {
   "cell_type": "code",
   "execution_count": null,
   "id": "52aa85e7",
   "metadata": {},
   "outputs": [],
   "source": []
  },
  {
   "cell_type": "code",
   "execution_count": null,
   "id": "39908b99",
   "metadata": {},
   "outputs": [],
   "source": []
  },
  {
   "cell_type": "code",
   "execution_count": null,
   "id": "ff516554",
   "metadata": {},
   "outputs": [],
   "source": []
  },
  {
   "cell_type": "code",
   "execution_count": null,
   "id": "4a8c0702",
   "metadata": {},
   "outputs": [],
   "source": []
  },
  {
   "cell_type": "code",
   "execution_count": null,
   "id": "3ff6aea7",
   "metadata": {},
   "outputs": [],
   "source": []
  }
 ],
 "metadata": {
  "kernelspec": {
   "display_name": "Python 3 (ipykernel)",
   "language": "python",
   "name": "python3"
  },
  "language_info": {
   "codemirror_mode": {
    "name": "ipython",
    "version": 3
   },
   "file_extension": ".py",
   "mimetype": "text/x-python",
   "name": "python",
   "nbconvert_exporter": "python",
   "pygments_lexer": "ipython3",
   "version": "3.11.5"
  }
 },
 "nbformat": 4,
 "nbformat_minor": 5
}
