{
 "cells": [
  {
   "cell_type": "markdown",
   "id": "d3bfc191-8885-42ee-b0a0-bbab867c6f9f",
   "metadata": {
    "tags": []
   },
   "source": [
    "# Lab | Flow Control"
   ]
  },
  {
   "cell_type": "markdown",
   "id": "3851fcd1-cf98-4653-9c89-e003b7ec9400",
   "metadata": {},
   "source": [
    "## Exercise: Managing Customer Orders Optimized\n",
    "\n",
    "In the last lab, you were starting an online store that sells various products. To ensure smooth operations, you developed a program that manages customer orders and inventory.\n",
    "\n",
    "You did so without using flow control. Let's go a step further and improve this code.\n",
    "\n",
    "Follow the steps below to complete the exercise:\n",
    "\n",
    "1. Look at your code from the lab data structures, and improve repeated code with loops.\n",
    "\n",
    "2. Instead of asking the user to input the name of three products that a customer wants to order, do the following:\n",
    "    \n",
    "    a. Prompt the user to enter the name of a product that a customer wants to order.\n",
    "    \n",
    "    b. Add the product name to the \"customer_orders\" set.\n",
    "    \n",
    "    c. Ask the user if they want to add another product (yes/no).\n",
    "    \n",
    "    d. Continue the loop until the user does not want to add another product.\n",
    "\n",
    "3. Instead of updating the inventory by subtracting 1 from the quantity of each product, only do it for  the products that were ordered (those in \"customer_orders\")."
   ]
  },
  {
   "cell_type": "code",
   "execution_count": 1,
   "id": "83b948f4",
   "metadata": {},
   "outputs": [],
   "source": [
    "products = [\"t-shirt\", \"mug\", \"hat\", \"book\", \"keychain\"]  #Creation of the list of products"
   ]
  },
  {
   "cell_type": "code",
   "execution_count": 2,
   "id": "0007a4dd",
   "metadata": {},
   "outputs": [],
   "source": [
    "inventory = {} #Creation of a dictionary to store the inventory of the quantity of each product"
   ]
  },
  {
   "cell_type": "code",
   "execution_count": 3,
   "id": "490f298c",
   "metadata": {},
   "outputs": [
    {
     "name": "stdout",
     "output_type": "stream",
     "text": [
      "How many t-shirt are there: 12\n",
      "How many mug are there: 12\n",
      "How many hat are there: 12\n",
      "How many book are there: 12\n",
      "How many keychain are there: 12\n"
     ]
    }
   ],
   "source": [
    "for x in products:\n",
    "    inventory[x] = int(input(\"How many \" + x + \" are there: \" )) #inputting the value of each key [x] in the dictionary for each product\n"
   ]
  },
  {
   "cell_type": "code",
   "execution_count": 4,
   "id": "047f9bee",
   "metadata": {},
   "outputs": [],
   "source": [
    "customer_orders = set() #creating an empty set for the customer order since the customer can only choose one of each product (even if he inputs the same product 3 times it will be considered still as one)"
   ]
  },
  {
   "cell_type": "code",
   "execution_count": 5,
   "id": "d8f519ed",
   "metadata": {},
   "outputs": [
    {
     "name": "stdout",
     "output_type": "stream",
     "text": [
      "['t-shirt', 'mug', 'hat', 'book', 'keychain']\n",
      "Choose one of these following items: t-shirt\n",
      "You choose: t-shirt\n",
      "Do you want to keep on buying?  y/n y\n",
      "['t-shirt', 'mug', 'hat', 'book', 'keychain']\n",
      "Choose one of these following items: mug\n",
      "You choose: mug\n",
      "Do you want to keep on buying?  y/n y\n",
      "['t-shirt', 'mug', 'hat', 'book', 'keychain']\n",
      "Choose one of these following items: hat\n",
      "You choose: hat\n",
      "Do you want to keep on buying?  y/n n\n",
      "Thank you for purchasing: {'hat', 'mug', 't-shirt'}\n",
      "{'hat', 'mug', 't-shirt'}\n"
     ]
    }
   ],
   "source": [
    "#here we are creating a loop so the customer can choose several products but we can´t choose multiple products since the customer_orders list is a set so for now we just create a simple loop and we update the list of the set\n",
    "seguir = \"y\" #start of loop \"condition first\"\n",
    "while seguir == \"y\": #checking what the condition of the loop is\n",
    "    print(products) #we need the list of the available products from which the customer can choose from\n",
    "    order = input(\"Choose one of these following items: \") #we ask the customer to choose one of the items \n",
    "    print(\"You choose:\", order) #we confirm what he chose\n",
    "    customer_orders.add(order) #we add said order to the customer_orders set\n",
    "    seguir = input(\"Do you want to keep on buying?  y/n \", ) #we ask the customer if he wants to continue choosing y = loop starts again n = we continue with the next line of code\n",
    "else: \n",
    "    print(\"Thank you for purchasing:\", customer_orders) #we display the customer_orders list with a thank you message\n",
    "print(customer_orders) #this is just to check that the customer_oders list works correctly\n"
   ]
  },
  {
   "cell_type": "code",
   "execution_count": 6,
   "id": "bcfbe472",
   "metadata": {},
   "outputs": [
    {
     "name": "stdout",
     "output_type": "stream",
     "text": [
      "Percentage of customer order 60.0 %\n"
     ]
    }
   ],
   "source": [
    "#Since there are only 5 products and the customer can choose 3 different we can see what the percentage is of what he chose, considering that the list of the customer is a \"set\"\n",
    "percentage_of_customer_orders = len(customer_orders)/len(products)*100\n",
    "print(\"Percentage of customer order\", percentage_of_customer_orders,\"%\")"
   ]
  },
  {
   "cell_type": "code",
   "execution_count": 7,
   "id": "9e38e0d0",
   "metadata": {},
   "outputs": [
    {
     "name": "stdout",
     "output_type": "stream",
     "text": [
      "The inventory is {'t-shirt': 12, 'mug': 12, 'hat': 12, 'book': 12, 'keychain': 12}\n"
     ]
    }
   ],
   "source": [
    "print(\"The inventory is\", inventory) #this is just to check the inventory of the products available"
   ]
  },
  {
   "cell_type": "code",
   "execution_count": 8,
   "id": "6775b493",
   "metadata": {},
   "outputs": [],
   "source": [
    "#we need to substract one item from the inventory of what the customer has chosen\n",
    "for x in customer_orders:\n",
    "    inventory[x] -= 1\n",
    "    \n",
    "#how many products do you want? "
   ]
  },
  {
   "cell_type": "code",
   "execution_count": 11,
   "id": "c3610da1",
   "metadata": {},
   "outputs": [
    {
     "name": "stdout",
     "output_type": "stream",
     "text": [
      "Inventory of t-shirt is:  11\n",
      "Inventory of mug is:  11\n",
      "Inventory of hat is:  11\n",
      "Inventory of book is:  12\n",
      "Inventory of keychain is:  12\n"
     ]
    }
   ],
   "source": [
    "for x,y in inventory.items(): #basic nice display of the total left inventory\n",
    "    print(\"Inventory of\", x , \"is: \", y )"
   ]
  }
 ],
 "metadata": {
  "kernelspec": {
   "display_name": "Python 3 (ipykernel)",
   "language": "python",
   "name": "python3"
  },
  "language_info": {
   "codemirror_mode": {
    "name": "ipython",
    "version": 3
   },
   "file_extension": ".py",
   "mimetype": "text/x-python",
   "name": "python",
   "nbconvert_exporter": "python",
   "pygments_lexer": "ipython3",
   "version": "3.11.5"
  }
 },
 "nbformat": 4,
 "nbformat_minor": 5
}
